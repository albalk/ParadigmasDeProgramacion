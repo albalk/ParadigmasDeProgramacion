{
 "cells": [
  {
   "cell_type": "markdown",
   "metadata": {},
   "source": [
    "## TEMA 2: PROGRAMACIÓN REACTIVA"
   ]
  },
  {
   "cell_type": "code",
   "execution_count": 1,
   "metadata": {},
   "outputs": [
    {
     "name": "stdout",
     "output_type": "stream",
     "text": [
      "Collecting rx\n",
      "  Downloading Rx-3.2.0-py3-none-any.whl.metadata (4.6 kB)\n",
      "Downloading Rx-3.2.0-py3-none-any.whl (199 kB)\n",
      "Installing collected packages: rx\n",
      "Successfully installed rx-3.2.0\n"
     ]
    }
   ],
   "source": [
    "!pip install rx"
   ]
  },
  {
   "cell_type": "code",
   "execution_count": 4,
   "metadata": {},
   "outputs": [
    {
     "name": "stdout",
     "output_type": "stream",
     "text": [
      "Recibido: Hola\n",
      "Completado\n",
      "Recibido2: Hola\n"
     ]
    },
    {
     "data": {
      "text/plain": [
       "<rx.disposable.disposable.Disposable at 0x1cd49dabc20>"
      ]
     },
     "execution_count": 4,
     "metadata": {},
     "output_type": "execute_result"
    }
   ],
   "source": [
    "# Programación funcional\n",
    "\n",
    "from rx import create\n",
    "\n",
    "def generador(observer, scheduler):\n",
    "    # Si las funciones on_next, on_error, etc no están suscritas al observador, da error\n",
    "    observer.on_next(\"Hola\")\n",
    "    # Después de ejecutar on_error, los observers no ejecutan nada después\n",
    "    # observer.on_error(\"Error\")\n",
    "    observer.on_completed()\n",
    "\n",
    "observable = create(generador) # Se le pasa la funcion\n",
    "observable.subscribe(on_next = lambda s: print(f\"Recibido: {s}\"), # Se subscriben los observadores\n",
    "                     on_error = lambda e: print(f\"Mensaje de error: {e}\"),\n",
    "                     on_completed = lambda: print(\"Completado\")) \n",
    "\n",
    "observable.subscribe(on_next = lambda s: print(f\"Recibido2: {s}\"), # Se subscriben los observadores\n",
    "                     on_error = lambda e: print(f\"Mensaje de error: {e}\")) "
   ]
  },
  {
   "cell_type": "code",
   "execution_count": 6,
   "metadata": {},
   "outputs": [
    {
     "name": "stdout",
     "output_type": "stream",
     "text": [
      "Recibido: 1\n",
      "Recibido: 2\n",
      "Recibido: 3\n",
      "Completado\n"
     ]
    },
    {
     "data": {
      "text/plain": [
       "<rx.disposable.disposable.Disposable at 0x1cd49cf3ce0>"
      ]
     },
     "execution_count": 6,
     "metadata": {},
     "output_type": "execute_result"
    }
   ],
   "source": [
    "# Programación funcional\n",
    "\n",
    "from rx import from_\n",
    "\n",
    "observable = from_([1, 2, 3]) # Se le pasa la funcion\n",
    "\n",
    "observable.subscribe(on_next = lambda s: print(f\"Recibido: {s}\"), # Se subscriben los observadores\n",
    "                     on_error = lambda e: print(f\"Mensaje de error: {e}\"),\n",
    "                     on_completed = lambda: print(\"Completado\")) \n"
   ]
  },
  {
   "cell_type": "code",
   "execution_count": 3,
   "metadata": {},
   "outputs": [
    {
     "name": "stdout",
     "output_type": "stream",
     "text": [
      "recibiendo: hola\n",
      "Mensaje de error: 'AutoDetachObserver' object has no attribute 'onerror'\n"
     ]
    },
    {
     "data": {
      "text/plain": [
       "<rx.disposable.disposable.Disposable at 0x1c55861ae40>"
      ]
     },
     "execution_count": 3,
     "metadata": {},
     "output_type": "execute_result"
    }
   ],
   "source": [
    "from rx import create\n",
    "from rx.core import Observer\n",
    "\n",
    "class Printer(Observer):\n",
    "    def on_next(self, value):\n",
    "        print(f\"recibiendo: {value}\")\n",
    "\n",
    "    def on_error(self, error):\n",
    "        print(f\"Mensaje de error: {error}\")\n",
    "\n",
    "    def on_completed(self):\n",
    "        print(\"acabé\")\n",
    "\n",
    "\n",
    "def observer_teclado(observer, scheduler):\n",
    "    exit_=False\n",
    "    while not exit_:\n",
    "        msg = input(\"Introduce un mensaje: \")\n",
    "        if msg:\n",
    "            if msg == \"exit\":\n",
    "                exit_=True\n",
    "                observer.on_completed()\n",
    "            else:\n",
    "                observer.on_next(msg)\n",
    "        else:\n",
    "            observer.onerror(\"mensaje vacío\")\n",
    "            exit_=True\n",
    "\n",
    "observable = create(observer_teclado)\n",
    "\n",
    "printer = Printer()\n",
    "\n",
    "observable.subscribe(printer)"
   ]
  },
  {
   "cell_type": "code",
   "execution_count": 7,
   "metadata": {},
   "outputs": [
    {
     "name": "stdout",
     "output_type": "stream",
     "text": [
      "recibiendo: Convertido a mayusculas: ASDF\n",
      "Mensaje de error: 'AutoDetachObserver' object has no attribute 'onerror'\n"
     ]
    },
    {
     "data": {
      "text/plain": [
       "<rx.disposable.disposable.Disposable at 0x1c55872ce90>"
      ]
     },
     "execution_count": 7,
     "metadata": {},
     "output_type": "execute_result"
    }
   ],
   "source": [
    "from rx import create, operators, from_\n",
    "from rx.core import Observer\n",
    "\n",
    "class Printer(Observer):\n",
    "    def on_next(self, value):\n",
    "        print(f\"recibiendo: {value}\")\n",
    "\n",
    "    def on_error(self, error):\n",
    "        print(f\"Mensaje de error: {error}\")\n",
    "\n",
    "    def on_completed(self):\n",
    "        print(\"acabé\")\n",
    "\n",
    "\n",
    "def observer_teclado(observer, scheduler):\n",
    "    exit_=False\n",
    "    while not exit_:\n",
    "        msg = input(\"Introduce un mensaje: \")\n",
    "        if msg:\n",
    "            if msg == \"exit\":\n",
    "                exit_=True\n",
    "                observer.on_completed()\n",
    "            else:\n",
    "                observer.on_next(msg)\n",
    "        else:\n",
    "            observer.onerror(\"mensaje vacío\")\n",
    "            exit_=True\n",
    "\n",
    "observable = create(observer_teclado)\n",
    "\n",
    "observable_intermedio = observable.pipe(operators.map(lambda s: s.upper()), # Son secuenciales\n",
    "                                        operators.map(lambda s: f\"Convertido a mayusculas: {s}\"))\n",
    "\n",
    "printer = Printer()\n",
    "\n",
    "observable_intermedio.subscribe(printer)\n",
    "\n",
    "\n"
   ]
  },
  {
   "cell_type": "code",
   "execution_count": 10,
   "metadata": {},
   "outputs": [
    {
     "name": "stdout",
     "output_type": "stream",
     "text": [
      "6787324\n",
      "Completado\n"
     ]
    },
    {
     "data": {
      "text/plain": [
       "<rx.disposable.disposable.Disposable at 0x1c5587626f0>"
      ]
     },
     "execution_count": 12,
     "metadata": {},
     "output_type": "execute_result"
    }
   ],
   "source": [
    "def num_generator(observer, scheduler):\n",
    "    l = [123,654,24,905756,3453,45421]\n",
    "    for n in l:\n",
    "        observer.on_next(n)\n",
    "\n",
    "    observer.on_complete() # para el máximo\n",
    "\n",
    "observable = from_([123,3645,7845,23459,6787324,])\n",
    "observable.pipe(operators.filter(lambda n: n>20000)).subscribe(on_next=lambda s: print(s), on_completed=lambda: print(\"Completado\"))\n",
    "observable.pipe(operators.max()).subscribe(on_next=lambda s: print(s), on_completed=lambda: print(\"Completado\"))"
   ]
  },
  {
   "cell_type": "code",
   "execution_count": 5,
   "metadata": {},
   "outputs": [
    {
     "name": "stdout",
     "output_type": "stream",
     "text": [
      "recibiendo: (tt0317219) - (Cars) : (https://m.media-amazon.com/images/M/MV5BMTg5NzY0MzA2MV5BMl5BanBnXkFtZTYwNDc3NTc2._V1_SX300.jpg) (2006)\n",
      "recibiendo: (tt1216475) - (Cars 2) : (https://m.media-amazon.com/images/M/MV5BMTUzNTc3MTU3M15BMl5BanBnXkFtZTcwMzIxNTc3NA@@._V1_SX300.jpg) (2011)\n",
      "recibiendo: (tt3606752) - (Cars 3) : (https://m.media-amazon.com/images/M/MV5BMTc0NzU2OTYyN15BMl5BanBnXkFtZTgwMTkwOTg2MTI@._V1_SX300.jpg) (2017)\n",
      "recibiendo: (tt0200027) - (Riding in Cars with Boys) : (https://m.media-amazon.com/images/M/MV5BZmQ3MjM3OTAtNDUwYy00NWM3LTljM2ItN2JhZTRlMDM3ZTcxXkEyXkFqcGc@._V1_SX300.jpg) (2001)\n",
      "recibiendo: (tt0081698) - (Used Cars) : (https://m.media-amazon.com/images/M/MV5BNTY3Zjg2ODQtNjdhNS00OWY1LThkODEtYWYyNDliNzI3ZTlhXkEyXkFqcGc@._V1_SX300.jpg) (1980)\n",
      "recibiendo: (tt1282139) - (Cars of the Revolution) : (https://m.media-amazon.com/images/M/MV5BZmE3NGIzZmEtZTBhNi00ZDYzLWJmZjItZWRmMmYzYzVmNTViXkEyXkFqcGdeQXVyMjExNjgyMTc@._V1_SX300.jpg) (2008)\n",
      "recibiendo: (tt0246692) - (Old Men in New Cars) : (https://m.media-amazon.com/images/M/MV5BMTY0MDc5NzYxOV5BMl5BanBnXkFtZTcwNjAxODAzMQ@@._V1_SX300.jpg) (2002)\n",
      "recibiendo: (tt0071282) - (The Cars That Ate Paris) : (https://m.media-amazon.com/images/M/MV5BNGFhNDJkZDQtYzRiNS00MzdkLTllOWItOWY4NGQyMDJjODExXkEyXkFqcGc@._V1_SX300.jpg) (1974)\n"
     ]
    },
    {
     "data": {
      "text/plain": [
       "<rx.disposable.disposable.Disposable at 0x2855ae189b0>"
      ]
     },
     "execution_count": 5,
     "metadata": {},
     "output_type": "execute_result"
    }
   ],
   "source": [
    "# Ejercicio 1\n",
    "# Lanzamos una peticion de busqueda para buscar las peliculas que encajen con un titulo.\n",
    "# Procesaremos el JSON de respuesta mediante un Obsevable y operaciones:\n",
    "    # Eliminaremos todos los resultados que no tengan type == \"movie\"\n",
    "    # Generaremos el mensaje: (ID) - TITULO: URL_POSTER (AÑO)\n",
    "\n",
    "import requests\n",
    "from rx import from_, create, operators\n",
    "from rx.core import Observer\n",
    "from secret import api_key\n",
    "from requests import get\n",
    "\n",
    "class Printer(Observer):\n",
    "    def on_next(self, value):\n",
    "        print(f\"recibiendo: {value}\")\n",
    "\n",
    "    def on_error(self, error):\n",
    "        print(f\"Mensaje de error: {error}\")\n",
    "\n",
    "    def on_completed(self):\n",
    "        print(\"acabé\")\n",
    "\n",
    "def search_movies(observer, scheduler):\n",
    "    # &s es para buscar por una palabra, y &t para un titulo\n",
    "    response = get(f\"http://www.omdbapi.com/?apikey={api_key}&s=cars\")\n",
    "\n",
    "    if response.status_code == 200:\n",
    "        for i in response.json()[\"Search\"]:\n",
    "            observer.on_next(i)\n",
    "\n",
    "observable = create(search_movies)\n",
    "\n",
    "observable.pipe(operators.filter(lambda s: s[\"Type\"] == \"movie\"),\n",
    "                operators.map(lambda d: f\"({d[\"imdbID\"]}) - ({d[\"Title\"]}) : ({d[\"Poster\"]}) ({d[\"Year\"]})\")).subscribe(Printer())\n",
    "\n",
    "\n"
   ]
  },
  {
   "cell_type": "markdown",
   "metadata": {},
   "source": [
    "### TKInter"
   ]
  },
  {
   "cell_type": "code",
   "execution_count": 26,
   "metadata": {},
   "outputs": [
    {
     "data": {
      "text/plain": [
       "<__main__.Window at 0x2523beb9fa0>"
      ]
     },
     "execution_count": 26,
     "metadata": {},
     "output_type": "execute_result"
    }
   ],
   "source": [
    "from tkinter import Tk, Label, Button, Entry, Checkbutton, BooleanVar, StringVar\n",
    "from tkinter.ttk import Combobox\n",
    "\n",
    "class Window:\n",
    "    def __init__(self):\n",
    "        self.window = Tk() # Crear ventana con interfaz gráfica\n",
    "        #self.window.geometry(\"200x200\") # añadir x+y para la posición\n",
    "\n",
    "        self.label = Label(text=\"Hola mundo\", font=(\"Arial Bold\", 25)) # Crear etiqueta\n",
    "        self.label.grid(row=0, column=0) # Añadir la etiqueta a la ventana\n",
    "        # label.pack() # Añadir la etiqueta a la ventana (sin posición)\n",
    "\n",
    "        self.label2Text = StringVar()\n",
    "        self.label2Text.set(\"caracola\")\n",
    "\n",
    "        self.label2 = Label(font=(\"Arial\", 10), textvariable=self.label2Text) # Crear etiqueta\n",
    "        self.label2.grid(row=0, column=1, padx=10) # Añadir la etiqueta a la ventana\n",
    "\n",
    "        self.button = Button(text=\"Pulsa\", command=self.read_entry) # Crear botón con funcionalidad\n",
    "        self.button.grid(row=1, column=0) # Añadir el botón a la ventana\n",
    "\n",
    "        self.entry = Entry() # Crear un campo de texto\n",
    "        self.entry.grid(row=1, column=1)\n",
    "\n",
    "        self.combobox = Combobox(values=[\"Opción 1\", \"Opción 2\", \"Opción 3\", \"Default\"])\n",
    "        self.combobox.grid(row=2, column=0)\n",
    "        self.combobox.current(3)\n",
    "\n",
    "        self.checkButtonState = BooleanVar()\n",
    "        self.checkButtonState.set(True)\n",
    "\n",
    "        self.checkbutton = Checkbutton(text=\"yes or not\", variable=self.checkButtonState)\n",
    "        self.checkbutton.grid(row=2, column=1)\n",
    "        \n",
    "\n",
    "        self.window.mainloop() # Bucle infinito para que la ventana no se cierre\n",
    "\n",
    "    def read_entry(self): # imprime el contenido escrito en el entry\n",
    "        self.label2Text.set(self.entry.get())\n",
    "        self.checkButtonState.set(not self.checkButtonState.get())\n",
    "\n",
    "Window()\n"
   ]
  },
  {
   "cell_type": "code",
   "execution_count": null,
   "metadata": {},
   "outputs": [
    {
     "data": {
      "text/plain": [
       "<__main__.Calc at 0x25237536780>"
      ]
     },
     "execution_count": 15,
     "metadata": {},
     "output_type": "execute_result"
    }
   ],
   "source": [
    "# Ejercicio 2: calculadora\n",
    "\n",
    "from tkinter import Tk, Label, Button\n",
    "from functools import partial\n",
    "\n",
    "class Calc:\n",
    "    def __init__(self):\n",
    "        self.keyboard_width = 4\n",
    "        self.keyboard_height = 4\n",
    "\n",
    "        self.window = Tk()\n",
    "        self.window.title(\"Calculadora\")\n",
    "\n",
    "        self.display = Label(text=\"0\", font=(\"Arial Bold\", 30))\n",
    "        self.display.grid(row=0, column=0, columnspan=self.keyboard_width)\n",
    "\n",
    "        lista_simbolos = [\"7\", \"8\", \"9\", \"+\", \"4\", \"5\", \"6\", \"-\", \"1\", \"2\", \"3\", \"*\", \"0\", \"=\", \"/\"]\n",
    "        i = 0\n",
    "        for sym in lista_simbolos:\n",
    "            button = Button(text=sym, font=(\"Arial Bold\", 20), command=partial(self.buttonPressed, sym))\n",
    "            if sym == \"=\":\n",
    "                button.grid(\n",
    "                    column=1 % self.keyboard_width, \n",
    "                    row=int(i/self.keyboard_height)+1,\n",
    "                    padx=10, pady=10, columnspan=2)\n",
    "            else:\n",
    "                button.grid(\n",
    "                    column=i % self.keyboard_width, \n",
    "                    row=int(i/self.keyboard_height)+1,\n",
    "                    padx=10, pady=10)\n",
    "            i += 1\n",
    "\n",
    "\n",
    "        self.window.mainloop()\n",
    "\n",
    "    def buttonPressed(self, btn_data):\n",
    "        current_text = str(self.display.cget(\"text\"))\n",
    "        if current_text == \"0\":\n",
    "            current_text = \"\"\n",
    "        \n",
    "        if btn_data == \"=\":\n",
    "            self.display.configure(text=eval(current_text))\n",
    "        else:\n",
    "            self.display.configure(text=current_text+btn_data)\n",
    "\n",
    "\n",
    "Calc()"
   ]
  },
  {
   "cell_type": "code",
   "execution_count": 16,
   "metadata": {},
   "outputs": [
    {
     "name": "stdout",
     "output_type": "stream",
     "text": [
      "Collecting kafka-python-ng\n",
      "  Downloading kafka_python_ng-2.2.3-py2.py3-none-any.whl.metadata (9.7 kB)\n",
      "Downloading kafka_python_ng-2.2.3-py2.py3-none-any.whl (232 kB)\n",
      "Installing collected packages: kafka-python-ng\n",
      "Successfully installed kafka-python-ng-2.2.3\n"
     ]
    }
   ],
   "source": [
    "# RX y Tkinter\n",
    "!pip install kafka-python-ng"
   ]
  },
  {
   "cell_type": "code",
   "execution_count": 1,
   "metadata": {},
   "outputs": [
    {
     "ename": "NameError",
     "evalue": "name 'Entry' is not defined",
     "output_type": "error",
     "traceback": [
      "\u001b[1;31m---------------------------------------------------------------------------\u001b[0m",
      "\u001b[1;31mNameError\u001b[0m                                 Traceback (most recent call last)",
      "Cell \u001b[1;32mIn[1], line 57\u001b[0m\n\u001b[0;32m     54\u001b[0m         thread \u001b[38;5;241m=\u001b[39m threading\u001b[38;5;241m.\u001b[39mThread(target\u001b[38;5;241m=\u001b[39mlistener\u001b[38;5;241m.\u001b[39mstart_listening, args\u001b[38;5;241m=\u001b[39m(observer\u001b[38;5;241m.\u001b[39mon_next,))\n\u001b[0;32m     55\u001b[0m         thread\u001b[38;5;241m.\u001b[39mstart()\n\u001b[1;32m---> 57\u001b[0m \u001b[43mKafkaUI\u001b[49m\u001b[43m(\u001b[49m\u001b[43m)\u001b[49m\n",
      "Cell \u001b[1;32mIn[1], line 33\u001b[0m, in \u001b[0;36mKafkaUI.__init__\u001b[1;34m(self)\u001b[0m\n\u001b[0;32m     30\u001b[0m \u001b[38;5;28mself\u001b[39m\u001b[38;5;241m.\u001b[39mwindow \u001b[38;5;241m=\u001b[39m Tk()\n\u001b[0;32m     31\u001b[0m \u001b[38;5;28mself\u001b[39m\u001b[38;5;241m.\u001b[39mwindow\u001b[38;5;241m.\u001b[39mtitle(\u001b[38;5;124m\"\u001b[39m\u001b[38;5;124mKafka UI\u001b[39m\u001b[38;5;124m\"\u001b[39m)\n\u001b[1;32m---> 33\u001b[0m \u001b[38;5;28mself\u001b[39m\u001b[38;5;241m.\u001b[39mentry \u001b[38;5;241m=\u001b[39m \u001b[43mEntry\u001b[49m()\n\u001b[0;32m     34\u001b[0m \u001b[38;5;28mself\u001b[39m\u001b[38;5;241m.\u001b[39mentry\u001b[38;5;241m.\u001b[39mgrid(row\u001b[38;5;241m=\u001b[39m\u001b[38;5;241m0\u001b[39m, column\u001b[38;5;241m=\u001b[39m\u001b[38;5;241m0\u001b[39m)\n\u001b[0;32m     36\u001b[0m \u001b[38;5;28mself\u001b[39m\u001b[38;5;241m.\u001b[39mbutton \u001b[38;5;241m=\u001b[39m Button(text\u001b[38;5;241m=\u001b[39m\u001b[38;5;124m\"\u001b[39m\u001b[38;5;124mEscuchar\u001b[39m\u001b[38;5;124m\"\u001b[39m, command\u001b[38;5;241m=\u001b[39m\u001b[38;5;28mself\u001b[39m\u001b[38;5;241m.\u001b[39mstart_kafka_listening)\n",
      "\u001b[1;31mNameError\u001b[0m: name 'Entry' is not defined"
     ]
    }
   ],
   "source": [
    "# Ejercicio: implementar, utilizando una interfaz grafica de TKInter y reactivex, un\n",
    "# programa que se dedique a escuchar el Topic Kafka “PAPR_MAIS”, “PAPR_INSOA”\n",
    "# o “PAPR_INSOBC” según el grupo que os corresponda. El programa tendrá un\n",
    "# Observable que incluirá el KafkaConsumer y se encargará de leer los mensajes.\n",
    "# Cada vez que se reciba uno, lo emitiremos a los obsevers, que se encargarán de\n",
    "# actualizar la interfaz gráfica y de imprimir el mensaje por terminal\n",
    "\n",
    "from tkinter import Tk, Label, Button, Text, END\n",
    "from kafka import KafkaConsumer\n",
    "import threading\n",
    "\n",
    "class KafkaListener:\n",
    "    def __init__(self, topic):\n",
    "        self.consumer = KafkaConsumer(\n",
    "            topic,\n",
    "            bootstrap_servers='pkc-l6wr6.europe-west2.gcp.confluent.cloud:9092',\n",
    "            security_protocol='SASL_SSL',\n",
    "            sasl_mechanism='PLAIN',\n",
    "            sasl_plain_username='WKIAB3JMF7ZJZ26U',\n",
    "            sasl_plain_password='4sQiwHFUoQDAr7BJufwWqHz99/K0R4o4iSx4Phf00rn5PQfa0TfvAwyGP/6tVY9c',\n",
    "            auto_offset_reset='latest'\n",
    "            )\n",
    "\n",
    "    def start_listening(self, onMsg):\n",
    "        for msg in self.consumer:\n",
    "            onMsg(msg.value.decode(\"utf-8\"))\n",
    "\n",
    "class KafkaUI:\n",
    "    def __init__(self):\n",
    "        self.window = Tk()\n",
    "        self.window.title(\"Kafka UI\")\n",
    "\n",
    "        self.entry = Entry()\n",
    "        self.entry.grid(row=0, column=0)\n",
    "\n",
    "        self.button = Button(text=\"Escuchar\", command=self.start_kafka_listening)\n",
    "        self.button.grid(row=0, column=1)\n",
    "\n",
    "        self.text = Text()\n",
    "        self.text.grid(row=1, column=0, columnspan=2)\n",
    "\n",
    "        self.window.mainloop()\n",
    "\n",
    "    def start_kafka_listening(self):\n",
    "        observable = create(self.observable_kafka)\n",
    "        observable.subscribe(on_next=lambda s: self.update_ui_text(s))\n",
    "\n",
    "    def update_ui_text(self, data):\n",
    "        self.text.insert(END, \"\\n\" + str(data))\n",
    "\n",
    "    def observable_kafka(self, observer, scheduler):\n",
    "        topic = self.entry.get()\n",
    "        listener = KafkaListener(topic)\n",
    "        thread = threading.Thread(target=listener.start_listening, args=(observer.on_next,))\n",
    "        thread.start()\n",
    "\n",
    "KafkaUI()"
   ]
  },
  {
   "cell_type": "markdown",
   "metadata": {},
   "source": [
    "### Programación asíncrona"
   ]
  },
  {
   "cell_type": "code",
   "execution_count": 5,
   "metadata": {},
   "outputs": [
    {
     "name": "stdout",
     "output_type": "stream",
     "text": [
      "I am a Thread! 1\n",
      "Thread terminado\n"
     ]
    }
   ],
   "source": [
    "import threading\n",
    "import time\n",
    "\n",
    "def print_msg(num):\n",
    "    #time.sleep(2)\n",
    "    print(f\"I am a Thread! {num}\")\n",
    "\n",
    "thread = threading.Thread(target=print_msg, args=(1,))\n",
    "thread.start() # iniciar el thread\n",
    "\n",
    "thread.join() # esperar a que el thread termine para continuar con el programa\n",
    "print(\"Thread terminado\")"
   ]
  },
  {
   "cell_type": "code",
   "execution_count": null,
   "metadata": {},
   "outputs": [
    {
     "name": "stdout",
     "output_type": "stream",
     "text": [
      "I am a Thread! 0\n",
      "I am a Thread! 2\n",
      "I am a Thread! 4\n",
      "I am a Thread! 1\n",
      "I am a Thread! 3\n",
      "Thread terminado\n"
     ]
    }
   ],
   "source": [
    "import threading\n",
    "import time\n",
    "\n",
    "def print_msg(num):\n",
    "    time.sleep(2)\n",
    "    print(f\"I am a Thread! {num}\")\n",
    "\n",
    "threads = []\n",
    "for i in range(5):\n",
    "    thread = threading.Thread(target=print_msg, args=(i,))\n",
    "    thread.start() # iniciar el thread\n",
    "    threads.append(thread)\n",
    "\n",
    "for thread in threads:\n",
    "    thread.join() # esperar a que el thread termine para continuar con el programa\n",
    "\n",
    "print(\"Thread terminado\")"
   ]
  },
  {
   "cell_type": "code",
   "execution_count": 3,
   "metadata": {},
   "outputs": [
    {
     "name": "stdout",
     "output_type": "stream",
     "text": [
      "Thread terminado\n"
     ]
    }
   ],
   "source": [
    "# Semaforos y locks\n",
    "import threading\n",
    "import time\n",
    "\n",
    "#sem = threading.Semaphore(2) # 2 threads pueden acceder a la vez\n",
    "lock = threading.Lock() # 1 semáforo de 1 thread es un lock\n",
    "\n",
    "file_name = \"log2.txt\"\n",
    "\n",
    "def access_resource(num):\n",
    "    lock.acquire() # adquiere el semaforo\n",
    "    for i in range (5):    \n",
    "        with open(file_name, \"a\") as f:\n",
    "            f.write(f\"Thread {num} --> iter {i}\\n\")\n",
    "\n",
    "    lock.release() # libera el semaforo\n",
    "\n",
    "threads = []\n",
    "for i in range(5):\n",
    "    thread = threading.Thread(target=access_resource, args=(i,))\n",
    "    thread.start() # iniciar el thread\n",
    "    threads.append(thread)\n",
    "\n",
    "for thread in threads:\n",
    "    thread.join() # esperar a que el thread termine para continuar con el programa\n",
    "\n",
    "print(\"Thread terminado\")"
   ]
  },
  {
   "cell_type": "code",
   "execution_count": 6,
   "metadata": {},
   "outputs": [],
   "source": [
    "# multiprocesos\n",
    "\n",
    "def countdown(n):\n",
    "    while n > 0:\n",
    "        n -= 1\n",
    "\n",
    "count = 500000000\n",
    "countdown(count)"
   ]
  },
  {
   "cell_type": "code",
   "execution_count": null,
   "metadata": {},
   "outputs": [],
   "source": [
    "# Como ambos threads estan en el mismo proceso, comparten la misma memoria y tardan más\n",
    "\n",
    "thread1 = threading.Thread(target=countdown, args=(count/2,))\n",
    "thread2 = threading.Thread(target=countdown, args=(count/2,))\n",
    "thread1.start()\n",
    "thread2.start()\n",
    "thread1.join()\n",
    "thread2.join()"
   ]
  },
  {
   "cell_type": "code",
   "execution_count": null,
   "metadata": {},
   "outputs": [],
   "source": [
    "# Ejercicio\n",
    "from tkinter import Button, Label, Tk\n",
    "from tkinter.ttk import Progressbar\n",
    "\n",
    "def progreso():\n",
    "    for i in range(100):\n",
    "        barra_progreso[\"value\"] = i\n",
    "        window.update_idletasks()\n",
    "        time.sleep(0.1)\n",
    "\n",
    "\n",
    "window = Tk()\n",
    "window.title(\"Progreso\")\n",
    "window.geometry(\"300x200\")\n",
    "\n",
    "label = Label(text=\"Descargando...\")\n",
    "label.grid(row=0, column=0, padx=25, pady=10)\n",
    "\n",
    "button = Button(text=\"Pulsa\", command=thread.start)\n",
    "button.grid(row=2, column=0, padx=25, pady=10)\n",
    "\n",
    "thread = threading.Thread(target=progreso)\n",
    "\n",
    "barra_progreso = Progressbar(orient=\"horizontal\", length=250, mode=\"determinate\")\n",
    "barra_progreso.grid(row=1, column=0, padx=25, pady=10)\n",
    "\n",
    "\n",
    "\n",
    "window.mainloop()\n"
   ]
  },
  {
   "cell_type": "markdown",
   "metadata": {},
   "source": [
    "### AsyncIO"
   ]
  },
  {
   "cell_type": "code",
   "execution_count": 1,
   "metadata": {},
   "outputs": [
    {
     "name": "stdout",
     "output_type": "stream",
     "text": [
      "Requirement already satisfied: nest_asyncio in d:\\alba\\4inso\\paradigmas programacion\\clase0\\lib\\site-packages (1.6.0)\n"
     ]
    }
   ],
   "source": [
    "!pip install nest_asyncio"
   ]
  },
  {
   "cell_type": "code",
   "execution_count": 2,
   "metadata": {},
   "outputs": [],
   "source": [
    "import nest_asyncio\n",
    "nest_asyncio.apply()"
   ]
  },
  {
   "cell_type": "code",
   "execution_count": null,
   "metadata": {},
   "outputs": [
    {
     "name": "stdout",
     "output_type": "stream",
     "text": [
      "One\n",
      "One\n",
      "Two\n",
      "Two\n",
      "One\n",
      "One\n",
      "Two\n",
      "Two\n",
      "running time: 10.01500000001397\n"
     ]
    }
   ],
   "source": [
    "# Corrutinas \n",
    "\n",
    "import asyncio, time\n",
    "\n",
    "async def count():\n",
    "    print(\"One\")\n",
    "    await asyncio.sleep(5)\n",
    "    print(\"Two\")\n",
    "\n",
    "# Corrutina principal\n",
    "async def main():\n",
    "    task = asyncio.create_task(count())\n",
    "    task2 = asyncio.create_task(count())\n",
    "    await asyncio.gather(task, task2) # Espera a que todas las tareas terminen\n",
    "    # await asyncio.gather(count(), count()) # si se le pasa una corrutina, crea la tarea, la ejecuta y espera a que termine\n",
    "\n",
    "# Ejecutar la corrutina principal\n",
    "t = time.monotonic()\n",
    "asyncio.run(main())\n",
    "print(f\"running time: {time.monotonic()-t}\")"
   ]
  },
  {
   "cell_type": "code",
   "execution_count": null,
   "metadata": {},
   "outputs": [
    {
     "name": "stdout",
     "output_type": "stream",
     "text": [
      "Numero generado: 97 \t Umbral: 67\n",
      "Numero generado: 82 \t Umbral: 35\n",
      "Numero generado: 97 \t Umbral: 80\n",
      "running time: 6.077999999979511\n"
     ]
    }
   ],
   "source": [
    "# Ejercicio 1\n",
    "# Arrancar 3 tareas que generan numeros aleatorios hasta conseguir que genere uno que supere un umbral\n",
    "# Cada tarea puede tener un umbral diferente\n",
    "# Despues de generar un numero por debajo del umbral, dormiremos 0.5 segundos\n",
    "\n",
    "import asyncio, time, random\n",
    "\n",
    "async def generar_random(umbral):\n",
    "    \n",
    "    while True:\n",
    "        num = random.randint(0, 100)\n",
    "        if num <= umbral:\n",
    "            await asyncio.sleep(0.5)\n",
    "        else:\n",
    "            print(f\"Numero generado: {num} \\t Umbral: {umbral}\")\n",
    "            break\n",
    "        \n",
    "\n",
    "\n",
    "async def main():\n",
    "    await asyncio.gather(generar_random(80), generar_random(35), generar_random(67))\n",
    "    # await asyncio.gather(*(generar_random(elem) for elem in [80, 35, 67])) # otra manera\n",
    "\n",
    "t = time.monotonic()\n",
    "asyncio.run(main())\n",
    "print(f\"running time: {time.monotonic()-t}\")"
   ]
  },
  {
   "cell_type": "code",
   "execution_count": 17,
   "metadata": {},
   "outputs": [
    {
     "name": "stdout",
     "output_type": "stream",
     "text": [
      "One\n",
      "Three\n",
      "Four\n",
      "Two\n",
      "running time: 5.0\n"
     ]
    }
   ],
   "source": [
    "import asyncio, time\n",
    "\n",
    "async def count():\n",
    "    print(\"One\")\n",
    "    await count2()\n",
    "    print(\"Two\")\n",
    "\n",
    "async def count2():\n",
    "    print(\"Three\")\n",
    "    await asyncio.sleep(5)\n",
    "    print(\"Four\")\n",
    "\n",
    "# Corrutina principal\n",
    "async def main():\n",
    "    await asyncio.gather(count()) # Espera a que todas las tareas terminen\n",
    "    # await asyncio.gather(count(), count()) # si se le pasa una corrutina, crea la tarea, la ejecuta y espera a que termine\n",
    "\n",
    "# Ejecutar la corrutina principal\n",
    "t = time.monotonic()\n",
    "asyncio.run(main())\n",
    "print(f\"running time: {time.monotonic()-t}\")"
   ]
  },
  {
   "cell_type": "code",
   "execution_count": null,
   "metadata": {},
   "outputs": [
    {
     "name": "stdout",
     "output_type": "stream",
     "text": [
      "Cocinando hamburguesa de pollo\n",
      "Cocinando hamburguesa de pollo\n",
      "Cocinando hamburguesa de pollo\n",
      "Hamburguesa de pollo cocinada\n",
      "Extra queso añadido\n",
      "Hamburguesa de pollo cocinada\n",
      "Extra queso añadido\n",
      "Hamburguesa de pollo cocinada\n",
      "Extra queso añadido\n",
      "Pedido con carne pollo y extra queso terminado\n",
      "Pedido con carne pollo y extra queso terminado\n",
      "Pedido con carne pollo y extra queso terminado\n"
     ]
    }
   ],
   "source": [
    "# Ejercicio 2\n",
    "\n",
    "async def add_extra(extra):\n",
    "    print(f\"Extra {extra} añadido\")\n",
    "    await asyncio.sleep(1)\n",
    "\n",
    "async def cocinar_hamburguesa(carne):\n",
    "    print(f\"Cocinando hamburguesa de {carne}\")\n",
    "    await asyncio.sleep(3)\n",
    "    print(f\"Hamburguesa de {carne} cocinada\")\n",
    "\n",
    "async def procesar_pedido(pedido: dict):\n",
    "    await cocinar_hamburguesa(pedido[\"carne\"])\n",
    "    await add_extra(pedido[\"extra\"])\n",
    "    print(f\"Pedido con carne {pedido[\"carne\"]} y extra {pedido[\"extra\"]} terminado\")\n",
    "\n",
    "async def generar_pedidos():\n",
    "    pedidos = [\n",
    "        {\"carne\": \"pollo\",\n",
    "         \"extra\": \"queso\"},\n",
    "        {\"carne\": \"cerdo\",\n",
    "        \"extra\": \"lechuga\"},\n",
    "        {\"carne\": \"ternera\",\n",
    "        \"extra\": \"tomate\"},\n",
    "    ]\n",
    "\n",
    "    tareas = []\n",
    "\n",
    "    for pedido in pedidos:\n",
    "        task = asyncio.create_task(procesar_pedido(pedido))\n",
    "        tareas.append(task)\n",
    "\n",
    "    await asyncio.gather(*tareas)\n",
    "\n",
    "async def main():\n",
    "    await generar_pedidos()\n",
    "\n",
    "asyncio.run(main())"
   ]
  }
 ],
 "metadata": {
  "kernelspec": {
   "display_name": "clase0",
   "language": "python",
   "name": "python3"
  },
  "language_info": {
   "codemirror_mode": {
    "name": "ipython",
    "version": 3
   },
   "file_extension": ".py",
   "mimetype": "text/x-python",
   "name": "python",
   "nbconvert_exporter": "python",
   "pygments_lexer": "ipython3",
   "version": "3.12.6"
  }
 },
 "nbformat": 4,
 "nbformat_minor": 2
}
