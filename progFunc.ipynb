{
 "cells": [
  {
   "cell_type": "markdown",
   "metadata": {},
   "source": [
    "## TEMA 1: PROGRAMACIÓN FUNCIONAL"
   ]
  },
  {
   "cell_type": "code",
   "execution_count": 4,
   "metadata": {},
   "outputs": [
    {
     "name": "stdout",
     "output_type": "stream",
     "text": [
      "<function func at 0x000002827D5AF920>\n",
      "<function func at 0x000002827D5AF920>\n",
      "Hola soy func()\n"
     ]
    }
   ],
   "source": [
    "# Programación funcional\n",
    "\n",
    "def func():\n",
    "    print('Hola soy func()')\n",
    "\n",
    "print(func)\n",
    "\n",
    "another_name = func\n",
    "print(another_name)\n",
    "\n",
    "another_name()"
   ]
  },
  {
   "cell_type": "code",
   "execution_count": 7,
   "metadata": {},
   "outputs": [
    {
     "name": "stdout",
     "output_type": "stream",
     "text": [
      "['hola', <function func at 0x000002827D5AF920>, 42]\n",
      "Hola soy func()\n"
     ]
    }
   ],
   "source": [
    "# Almacenar funciones en listas\n",
    "objects = [\"hola\", func, 42]\n",
    "print(objects)\n",
    "\n",
    "objects[1]() # Invocar la funcion desde la lista"
   ]
  },
  {
   "cell_type": "code",
   "execution_count": 10,
   "metadata": {},
   "outputs": [
    {
     "name": "stdout",
     "output_type": "stream",
     "text": [
      "2\n",
      "Hola soy func()\n"
     ]
    }
   ],
   "source": [
    "# Elementos de un diccionario\n",
    "d1 = {\"hola\" : 1, func : 2, 42 : 3}\n",
    "print(d1[func])\n",
    "\n",
    "d2 = {1 : \"hola\", 2 : func, 3 : 42}\n",
    "d2[2]()"
   ]
  },
  {
   "cell_type": "code",
   "execution_count": 12,
   "metadata": {},
   "outputs": [
    {
     "name": "stdout",
     "output_type": "stream",
     "text": [
      "Hola soy inner\n",
      "Hola soy func()\n"
     ]
    }
   ],
   "source": [
    "# Callbacks\n",
    "\n",
    "def inner():\n",
    "    print('Hola soy inner')\n",
    "\n",
    "def outer(func2): # Ejecuta la funcion que recibe como parametro\n",
    "    func2()\n",
    "\n",
    "outer(inner)\n",
    "outer(func)"
   ]
  },
  {
   "cell_type": "code",
   "execution_count": 1,
   "metadata": {},
   "outputs": [
    {
     "name": "stdout",
     "output_type": "stream",
     "text": [
      "Requirement already satisfied: requests in c:\\users\\allop\\appdata\\local\\programs\\python\\python312\\lib\\site-packages (2.32.3)\n",
      "Requirement already satisfied: charset-normalizer<4,>=2 in c:\\users\\allop\\appdata\\local\\programs\\python\\python312\\lib\\site-packages (from requests) (3.3.2)\n",
      "Requirement already satisfied: idna<4,>=2.5 in c:\\users\\allop\\appdata\\local\\programs\\python\\python312\\lib\\site-packages (from requests) (3.10)\n",
      "Requirement already satisfied: urllib3<3,>=1.21.1 in c:\\users\\allop\\appdata\\local\\programs\\python\\python312\\lib\\site-packages (from requests) (2.2.3)\n",
      "Requirement already satisfied: certifi>=2017.4.17 in c:\\users\\allop\\appdata\\local\\programs\\python\\python312\\lib\\site-packages (from requests) (2024.8.30)\n"
     ]
    }
   ],
   "source": [
    "!pip install requests"
   ]
  },
  {
   "cell_type": "code",
   "execution_count": 5,
   "metadata": {},
   "outputs": [
    {
     "name": "stdout",
     "output_type": "stream",
     "text": [
      "Petición correcta\n"
     ]
    }
   ],
   "source": [
    "# Crear clase que haga peticion GET y sin modificar la clase, modificar el comportamiento dependiendo de la respuesta de la peticion\n",
    "\n",
    "from requests import get\n",
    "\n",
    "def print_ok():\n",
    "    print('Petición correcta')\n",
    "\n",
    "def print_error():\n",
    "    print('Error en la petición')\n",
    "\n",
    "class GetCallback:\n",
    "\n",
    "    def MakeGetRequest(self, url, onsuccess, onerror):\n",
    "            \n",
    "        try:\n",
    "            response = get(url)\n",
    "\n",
    "            if response.status_code == 200:\n",
    "                onsuccess()\n",
    "            else: # Error de comunicación\n",
    "                onerror()\n",
    "        except: # Error de servidor\n",
    "            onerror()\n",
    "\n",
    "# Crear objeto\n",
    "obj = GetCallback()\n",
    "obj.MakeGetRequest(\"https://u-tad.com\", print_ok, print_error)\n",
    "obj.MakeGetRequest(url= \"https://u-tad.com\", onerror=print_error, onsuccess=print_ok) # Se puede cambiar el orden de los parametros"
   ]
  },
  {
   "cell_type": "code",
   "execution_count": 16,
   "metadata": {},
   "outputs": [
    {
     "data": {
      "text/plain": [
       "['ferret', 'gecko', 'vole', 'dog']"
      ]
     },
     "execution_count": 16,
     "metadata": {},
     "output_type": "execute_result"
    }
   ],
   "source": [
    "# Ejercicio 1: \n",
    "# sorted(animals, key=?)\n",
    "# [\"ferret\", \"gecko\", \"vole\", \"dog\"]\n",
    "\n",
    "# sort(nombre_func) devuelte una lista nueva ordenada\n",
    "# sorted(nombre_func) devuelve la lista ordenada\n",
    "\n",
    "animals= [\"ferret\", \"gecko\", \"vole\", \"dog\"]\n",
    "sorted(animals)\n",
    "\n",
    "sorted(animals, key=len) # Ordena por longitud de la palabra\n",
    "sorted(animals, key=len, reverse=True) # Ordena por longitud de la palabra de mayor a menor\n",
    "\n",
    "# Resuelto:\n",
    "def reverse_len(word):\n",
    "    return -len(word)\n",
    "\n",
    "sorted(animals, key=reverse_len)"
   ]
  },
  {
   "cell_type": "code",
   "execution_count": 19,
   "metadata": {},
   "outputs": [
    {
     "name": "stdout",
     "output_type": "stream",
     "text": [
      "Hola soy inner2\n"
     ]
    }
   ],
   "source": [
    "def outer2():\n",
    "    def inner2():\n",
    "        print('Hola soy inner2')\n",
    "    return inner2\n",
    "\n",
    "#outer2()() # Mismo resultado\n",
    "func3 = outer2()\n",
    "func3()"
   ]
  },
  {
   "cell_type": "code",
   "execution_count": 26,
   "metadata": {},
   "outputs": [
    {
     "name": "stdout",
     "output_type": "stream",
     "text": [
      "14\n",
      "10\n",
      "24\n"
     ]
    }
   ],
   "source": [
    "# Ejercicio 2: con los conocimientos que hemos adquirido de programación funcional, implementar la funcion edad_mascota que\n",
    "# nos devuelva la edad en años humanos\n",
    "    # perro: 1 año humano = 7 años humanos\n",
    "    # gato: 1 año humano = 5 años humanos\n",
    "    # pez: 1 año humano = 12 año humanos\n",
    "\n",
    "def perro(edad):\n",
    "    return edad * 7\n",
    "\n",
    "def gato(edad):\n",
    "    return edad * 5\n",
    "\n",
    "def pez(edad):\n",
    "    return edad * 12\n",
    "\n",
    "def edad_mascota(func_animal, edad):\n",
    "    return func_animal(edad)\n",
    "\n",
    "print(edad_mascota(perro, 2))\n",
    "print(edad_mascota(gato, 2))\n",
    "print(edad_mascota(pez, 2))\n"
   ]
  },
  {
   "cell_type": "code",
   "execution_count": 7,
   "metadata": {},
   "outputs": [
    {
     "name": "stdout",
     "output_type": "stream",
     "text": [
      "b'{\"Title\":\"The Avengers\",\"Year\":\"2012\",\"Rated\":\"PG-13\",\"Released\":\"04 May 2012\",\"Runtime\":\"143 min\",\"Genre\":\"Action, Sci-Fi\",\"Director\":\"Joss Whedon\",\"Writer\":\"Joss Whedon, Zak Penn\",\"Actors\":\"Robert Downey Jr., Chris Evans, Scarlett Johansson\",\"Plot\":\"Earth\\'s mightiest heroes must come together and learn to fight as a team if they are going to stop the mischievous Loki and his alien army from enslaving humanity.\",\"Language\":\"English, Russian\",\"Country\":\"United States\",\"Awards\":\"Nominated for 1 Oscar. 39 wins & 81 nominations total\",\"Poster\":\"https://m.media-amazon.com/images/M/MV5BNDYxNjQyMjAtNTdiOS00NGYwLWFmNTAtNThmYjU5ZGI2YTI1XkEyXkFqcGdeQXVyMTMxODk2OTU@._V1_SX300.jpg\",\"Ratings\":[{\"Source\":\"Internet Movie Database\",\"Value\":\"8.0/10\"},{\"Source\":\"Rotten Tomatoes\",\"Value\":\"91%\"},{\"Source\":\"Metacritic\",\"Value\":\"69/100\"}],\"Metascore\":\"69\",\"imdbRating\":\"8.0\",\"imdbVotes\":\"1,477,607\",\"imdbID\":\"tt0848228\",\"Type\":\"movie\",\"DVD\":\"N/A\",\"BoxOffice\":\"$623,357,910\",\"Production\":\"N/A\",\"Website\":\"N/A\",\"Response\":\"True\"}'\n"
     ]
    }
   ],
   "source": [
    "# Ejercicio 2: implementaremos un callback usando la libreria requests\n",
    "    # Crear una funcion get_movie que hace una peticion a OMDB API\n",
    "    # Si la peticion es correcta, mostrar los datos de la pelicula, sino mensaje de error\n",
    "    # La funcion no debe encargarse de imprimir el restultado, sino que se le debe pasar como parametro\n",
    "\n",
    "from secret import api_key\n",
    "from requests import get\n",
    "import json\n",
    "\n",
    "def make_get_request(url, onsuccess, onerror):\n",
    "    response = get(url)\n",
    "\n",
    "    if response.status_code == 200:\n",
    "        onsuccess(response.content)\n",
    "    else:\n",
    "        onerror()\n",
    "\n",
    "    return\n",
    "\n",
    "def printData(data):\n",
    "    print(data)\n",
    "\n",
    "def getTitle(data):\n",
    "    y=json.loads(data)\n",
    "    print(y['Title'])\n",
    "\n",
    "def printError():\n",
    "    print(\"Error\")\n",
    "\n",
    "def biuld_url(movie_name):\n",
    "    \n",
    "    return f\"http://www.omdbapi.com/?apikey={api_key}&t={movie_name}\"\n",
    "\n",
    "\n",
    "def main():\n",
    "    movie= input('Introduce el título de la película: ')\n",
    "    url = biuld_url(movie)\n",
    "    make_get_request(url, getTitle, printError)\n",
    "\n",
    "#llamada al main\n",
    "main()"
   ]
  },
  {
   "cell_type": "code",
   "execution_count": 15,
   "metadata": {},
   "outputs": [
    {
     "name": "stdout",
     "output_type": "stream",
     "text": [
      "imagen guardada\n"
     ]
    }
   ],
   "source": [
    "# Ejercicio 2.1: cuando se recibe el titulo de la pelicula, se debe guardar la imagen del poster de la pelicula\n",
    "\n",
    "from secret import api_key\n",
    "from requests import get\n",
    "import json\n",
    "from functools import partial # Permite pasar parametros a una funcion\n",
    "\n",
    "def make_get_request(url, onsuccess, onerror):\n",
    "    response = get(url)\n",
    "\n",
    "    if response.status_code == 200:\n",
    "        onsuccess(response.content)\n",
    "    else:\n",
    "        onerror()\n",
    "\n",
    "    return\n",
    "\n",
    "def printData(data):\n",
    "    print(data)\n",
    "\n",
    "def getTitle(data):\n",
    "    y=json.loads(data)\n",
    "    print(y['Title'])\n",
    "\n",
    "def getPoster(data):\n",
    "    y=json.loads(data)\n",
    "    # print(y['Poster'])\n",
    "    make_get_request(y['Poster'], partial(savePoster, y[\"Title\"]), printError)\n",
    "    \n",
    "\n",
    "def savePoster(title, data):\n",
    "    print(\"imagen guardada\")\n",
    "    with open (f\"{title}.jpg\", \"wb\") as file:\n",
    "        file.write(data)\n",
    "        \n",
    "\n",
    "def printError():\n",
    "    print(\"Error\")\n",
    "    \n",
    "\n",
    "def biuld_url(movie_name):\n",
    "    \n",
    "    return f\"http://www.omdbapi.com/?apikey={api_key}&t={movie_name}\"\n",
    "\n",
    "\n",
    "def main():\n",
    "    movie= input('Introduce el título de la película: ')\n",
    "    url = biuld_url(movie)\n",
    "    make_get_request(url, getPoster, printError)\n",
    "\n",
    "#llamada al main\n",
    "main()"
   ]
  },
  {
   "cell_type": "code",
   "execution_count": 20,
   "metadata": {},
   "outputs": [
    {
     "name": "stdout",
     "output_type": "stream",
     "text": [
      "aloh\n"
     ]
    }
   ],
   "source": [
    "reverse = lambda s: s[::-1] # recorre una lista del reves\n",
    "lista = [1, \"hola\", reverse]\n",
    "# reverse(\"hola\")\n",
    "\n",
    "for elem in lista:\n",
    "    if callable(elem):\n",
    "        print(elem(\"hola\"))"
   ]
  },
  {
   "cell_type": "code",
   "execution_count": 24,
   "metadata": {},
   "outputs": [
    {
     "name": "stdout",
     "output_type": "stream",
     "text": [
      "['pez', 'gato', 'perro']\n",
      "['orrep', 'otag', 'zep']\n",
      "perro, gato, pez\n"
     ]
    },
    {
     "data": {
      "text/plain": [
       "'1, 2, 3, 4, 5'"
      ]
     },
     "execution_count": 24,
     "metadata": {},
     "output_type": "execute_result"
    }
   ],
   "source": [
    "# Operadores funcionales\n",
    "\n",
    "reverse = lambda s: s[::-1]\n",
    "\n",
    "animales = [\"perro\", \"gato\", \"pez\"]\n",
    "\n",
    "print(reverse(animales)) # Da la vuelta a la lista\n",
    "print(list(map(reverse, animales))) # Da la vuelta a cada elemento de la lista\n",
    "\n",
    "print(\", \".join(animales))\n",
    "\n",
    "\", \".join(map(str,[1,2,3,4,5])) # Añade un cast a string\n"
   ]
  },
  {
   "cell_type": "code",
   "execution_count": 34,
   "metadata": {},
   "outputs": [
    {
     "name": "stdout",
     "output_type": "stream",
     "text": [
      "[3, 6, 9, 12, 15]\n",
      "perro\n",
      "gato\n",
      "pez\n"
     ]
    }
   ],
   "source": [
    "# Ejercicios funcion MAP\n",
    "\n",
    "# 1: triplicar los elementos de la lista de enteros\n",
    "lista = [1, 2, 3, 4, 5]\n",
    "print(list(map(lambda x: x*3, lista)))\n",
    "\n",
    "# 2: imprime todos los elementos de una lista de strings\n",
    "recorrer = lambda s: s[::1]\n",
    "animales = [\"perro\", \"gato\", \"pez\"]\n",
    "print(list(map(recorrer, animales)))\n",
    "# list(map(print, animales)) \n",
    "\n",
    "# 3: convierte a mayusculas y minusculas y elimine las letras duplicadas de una secuencia\n",
    "secuencia = \"Caracola\"\n"
   ]
  },
  {
   "cell_type": "code",
   "execution_count": 35,
   "metadata": {},
   "outputs": [
    {
     "data": {
      "text/plain": [
       "[101, 150]"
      ]
     },
     "execution_count": 35,
     "metadata": {},
     "output_type": "execute_result"
    }
   ],
   "source": [
    "# Operador filter\n",
    "def greater_than_100(n):\n",
    "    return n > 100\n",
    "\n",
    "list(filter(greater_than_100, [1, 50, 100, 101, 150]))"
   ]
  },
  {
   "cell_type": "code",
   "execution_count": 38,
   "metadata": {},
   "outputs": [
    {
     "data": {
      "text/plain": [
       "['EMU']"
      ]
     },
     "execution_count": 38,
     "metadata": {},
     "output_type": "execute_result"
    }
   ],
   "source": [
    "# Ejercicios funcion FILTER\n",
    "\n",
    "# 1: Devuelve numeros pares\n",
    "list(filter(lambda x: x%2==0, range(20)))\n",
    "\n",
    "# 2: Devuelve las palabras que son mayusculas\n",
    "list(filter(lambda s: s.isupper(), [\"cat\", \"Dog\", \"EMU\"]))"
   ]
  },
  {
   "cell_type": "code",
   "execution_count": 42,
   "metadata": {},
   "outputs": [
    {
     "data": {
      "text/plain": [
       "5"
      ]
     },
     "execution_count": 42,
     "metadata": {},
     "output_type": "execute_result"
    }
   ],
   "source": [
    "# Operador reduce\n",
    "from functools import reduce\n",
    "\n",
    "# Ejecuta la funcion que le pases por pares\n",
    "def f(x, y):\n",
    "    return x + y\n",
    "\n",
    "reduce(f, animales) # también vale para strings\n",
    "\n",
    "reduce(lambda x,y: max(x, y), [1, 2, 3, 4, 5]) # busca el mayor\n"
   ]
  }
 ],
 "metadata": {
  "kernelspec": {
   "display_name": "Python 3",
   "language": "python",
   "name": "python3"
  },
  "language_info": {
   "codemirror_mode": {
    "name": "ipython",
    "version": 3
   },
   "file_extension": ".py",
   "mimetype": "text/x-python",
   "name": "python",
   "nbconvert_exporter": "python",
   "pygments_lexer": "ipython3",
   "version": "3.12.6"
  }
 },
 "nbformat": 4,
 "nbformat_minor": 2
}
